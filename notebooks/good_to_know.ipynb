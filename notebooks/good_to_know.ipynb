{
 "cells": [
  {
   "cell_type": "code",
   "execution_count": 14,
   "id": "adb41959",
   "metadata": {},
   "outputs": [],
   "source": [
    "import pandas as pd\n",
    "from pathlib import Path\n",
    "from entsoe import EntsoePandasClient"
   ]
  },
  {
   "cell_type": "code",
   "execution_count": 15,
   "id": "9d4776ab",
   "metadata": {},
   "outputs": [],
   "source": [
    "from iaomai.outages import (\n",
    "    preprocess_outages_data,\n",
    ")"
   ]
  },
  {
   "cell_type": "code",
   "execution_count": 16,
   "id": "69c1b0ad",
   "metadata": {},
   "outputs": [],
   "source": [
    "DATA_PATH = Path(\"../data/unavailability\")"
   ]
  },
  {
   "cell_type": "code",
   "execution_count": 17,
   "id": "f9ff90ee",
   "metadata": {},
   "outputs": [],
   "source": [
    "ENTSOE_TOKEN = \"34b5fee5-1333-4e97-9fdc-d713ae6ae9c1\"\n",
    "client = EntsoePandasClient(api_key=ENTSOE_TOKEN)\n",
    "start = pd.Timestamp(\"20160101\", tz=\"CET\")\n",
    "end = pd.Timestamp(\"20310101\", tz=\"CET\")"
   ]
  },
  {
   "cell_type": "code",
   "execution_count": 18,
   "id": "e1aa7152",
   "metadata": {},
   "outputs": [],
   "source": [
    "raw_data = pd.read_csv(\n",
    "    DATA_PATH / \"unavailability_fr_20160101_20310101.csv\", parse_dates=True\n",
    ")\n",
    "french_outages = preprocess_outages_data(\n",
    "    raw_data=raw_data, outage_duration=pd.Timedelta(days=0)\n",
    ")"
   ]
  },
  {
   "cell_type": "markdown",
   "id": "eafeece3",
   "metadata": {},
   "source": [
    "## Outages can overlap"
   ]
  },
  {
   "cell_type": "code",
   "execution_count": 20,
   "id": "e5b44de2",
   "metadata": {},
   "outputs": [
    {
     "data": {
      "text/html": [
       "<div>\n",
       "<style scoped>\n",
       "    .dataframe tbody tr th:only-of-type {\n",
       "        vertical-align: middle;\n",
       "    }\n",
       "\n",
       "    .dataframe tbody tr th {\n",
       "        vertical-align: top;\n",
       "    }\n",
       "\n",
       "    .dataframe thead th {\n",
       "        text-align: right;\n",
       "    }\n",
       "</style>\n",
       "<table border=\"1\" class=\"dataframe\">\n",
       "  <thead>\n",
       "    <tr style=\"text-align: right;\">\n",
       "      <th></th>\n",
       "      <th>nominal_power</th>\n",
       "      <th>start</th>\n",
       "      <th>end</th>\n",
       "      <th>businesstype</th>\n",
       "      <th>avail_qty</th>\n",
       "      <th>unique_id</th>\n",
       "      <th>production_resource_psr_name</th>\n",
       "      <th>mrid</th>\n",
       "      <th>delta</th>\n",
       "    </tr>\n",
       "  </thead>\n",
       "  <tbody>\n",
       "    <tr>\n",
       "      <th>7744</th>\n",
       "      <td>1300.0</td>\n",
       "      <td>2020-08-25 02:32:00+02:00</td>\n",
       "      <td>2020-08-25 02:45:00+02:00</td>\n",
       "      <td>Unplanned outage</td>\n",
       "      <td>780.0</td>\n",
       "      <td>31559</td>\n",
       "      <td>CATTENOM 4</td>\n",
       "      <td>PMlOI9-a9OKHOFiO8fk0Ow</td>\n",
       "      <td>520.0</td>\n",
       "    </tr>\n",
       "    <tr>\n",
       "      <th>7743</th>\n",
       "      <td>1300.0</td>\n",
       "      <td>2020-08-25 02:45:00+02:00</td>\n",
       "      <td>2020-08-25 03:00:00+02:00</td>\n",
       "      <td>Unplanned outage</td>\n",
       "      <td>780.0</td>\n",
       "      <td>31558</td>\n",
       "      <td>CATTENOM 4</td>\n",
       "      <td>PMlOI9-a9OKHOFiO8fk0Ow</td>\n",
       "      <td>520.0</td>\n",
       "    </tr>\n",
       "    <tr>\n",
       "      <th>8470</th>\n",
       "      <td>1300.0</td>\n",
       "      <td>2020-08-13 00:00:00+02:00</td>\n",
       "      <td>2020-08-26 15:00:00+02:00</td>\n",
       "      <td>Planned maintenance</td>\n",
       "      <td>1155.0</td>\n",
       "      <td>34641</td>\n",
       "      <td>CATTENOM 4</td>\n",
       "      <td>YuoR-pswMnDjGnYznIfi4Q</td>\n",
       "      <td>145.0</td>\n",
       "    </tr>\n",
       "    <tr>\n",
       "      <th>8471</th>\n",
       "      <td>1300.0</td>\n",
       "      <td>2020-08-26 15:00:00+02:00</td>\n",
       "      <td>2020-08-26 15:30:00+02:00</td>\n",
       "      <td>Planned maintenance</td>\n",
       "      <td>1155.0</td>\n",
       "      <td>34642</td>\n",
       "      <td>CATTENOM 4</td>\n",
       "      <td>YuoR-pswMnDjGnYznIfi4Q</td>\n",
       "      <td>145.0</td>\n",
       "    </tr>\n",
       "    <tr>\n",
       "      <th>7742</th>\n",
       "      <td>1300.0</td>\n",
       "      <td>2020-08-25 03:00:00+02:00</td>\n",
       "      <td>2020-09-04 21:00:00+02:00</td>\n",
       "      <td>Unplanned outage</td>\n",
       "      <td>780.0</td>\n",
       "      <td>31557</td>\n",
       "      <td>CATTENOM 4</td>\n",
       "      <td>PMlOI9-a9OKHOFiO8fk0Ow</td>\n",
       "      <td>520.0</td>\n",
       "    </tr>\n",
       "    <tr>\n",
       "      <th>7745</th>\n",
       "      <td>1300.0</td>\n",
       "      <td>2020-09-04 21:00:00+02:00</td>\n",
       "      <td>2020-09-04 21:30:00+02:00</td>\n",
       "      <td>Unplanned outage</td>\n",
       "      <td>780.0</td>\n",
       "      <td>31560</td>\n",
       "      <td>CATTENOM 4</td>\n",
       "      <td>PMlOI9-a9OKHOFiO8fk0Ow</td>\n",
       "      <td>520.0</td>\n",
       "    </tr>\n",
       "  </tbody>\n",
       "</table>\n",
       "</div>"
      ],
      "text/plain": [
       "      nominal_power                     start                       end  \\\n",
       "7744         1300.0 2020-08-25 02:32:00+02:00 2020-08-25 02:45:00+02:00   \n",
       "7743         1300.0 2020-08-25 02:45:00+02:00 2020-08-25 03:00:00+02:00   \n",
       "8470         1300.0 2020-08-13 00:00:00+02:00 2020-08-26 15:00:00+02:00   \n",
       "8471         1300.0 2020-08-26 15:00:00+02:00 2020-08-26 15:30:00+02:00   \n",
       "7742         1300.0 2020-08-25 03:00:00+02:00 2020-09-04 21:00:00+02:00   \n",
       "7745         1300.0 2020-09-04 21:00:00+02:00 2020-09-04 21:30:00+02:00   \n",
       "\n",
       "             businesstype  avail_qty  unique_id production_resource_psr_name  \\\n",
       "7744     Unplanned outage      780.0      31559                   CATTENOM 4   \n",
       "7743     Unplanned outage      780.0      31558                   CATTENOM 4   \n",
       "8470  Planned maintenance     1155.0      34641                   CATTENOM 4   \n",
       "8471  Planned maintenance     1155.0      34642                   CATTENOM 4   \n",
       "7742     Unplanned outage      780.0      31557                   CATTENOM 4   \n",
       "7745     Unplanned outage      780.0      31560                   CATTENOM 4   \n",
       "\n",
       "                        mrid  delta  \n",
       "7744  PMlOI9-a9OKHOFiO8fk0Ow  520.0  \n",
       "7743  PMlOI9-a9OKHOFiO8fk0Ow  520.0  \n",
       "8470  YuoR-pswMnDjGnYznIfi4Q  145.0  \n",
       "8471  YuoR-pswMnDjGnYznIfi4Q  145.0  \n",
       "7742  PMlOI9-a9OKHOFiO8fk0Ow  520.0  \n",
       "7745  PMlOI9-a9OKHOFiO8fk0Ow  520.0  "
      ]
     },
     "execution_count": 20,
     "metadata": {},
     "output_type": "execute_result"
    }
   ],
   "source": [
    "french_outages[\n",
    "    french_outages[\"mrid\"].isin([\"YuoR-pswMnDjGnYznIfi4Q\", \"PMlOI9-a9OKHOFiO8fk0Ow\"])\n",
    "].sort_values(by=\"end\")"
   ]
  }
 ],
 "metadata": {
  "kernelspec": {
   "display_name": "iaomai",
   "language": "python",
   "name": "python3"
  },
  "language_info": {
   "codemirror_mode": {
    "name": "ipython",
    "version": 3
   },
   "file_extension": ".py",
   "mimetype": "text/x-python",
   "name": "python",
   "nbconvert_exporter": "python",
   "pygments_lexer": "ipython3",
   "version": "3.13.7"
  }
 },
 "nbformat": 4,
 "nbformat_minor": 5
}
